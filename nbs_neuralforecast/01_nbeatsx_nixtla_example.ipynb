{
 "cells": [
  {
   "cell_type": "code",
   "execution_count": 1,
   "id": "eb56d19e-8de7-4261-90ed-93473ab08d81",
   "metadata": {},
   "outputs": [],
   "source": [
    "import pandas as pd\n",
    "import matplotlib.pyplot as plt\n",
    "from neuralforecast import NeuralForecast\n",
    "from neuralforecast.models import NBEATSx\n",
    "from neuralforecast.losses.pytorch import DistributionLoss\n",
    "from neuralforecast.utils import AirPassengersPanel, AirPassengersStatic"
   ]
  },
  {
   "cell_type": "markdown",
   "id": "0da7b063-975e-46f2-93d3-7182944b4786",
   "metadata": {},
   "source": [
    "## 1. Getting data for the Model"
   ]
  },
  {
   "cell_type": "code",
   "execution_count": 2,
   "id": "18d2947f-d439-438b-bec9-197755e163f5",
   "metadata": {},
   "outputs": [],
   "source": [
    "def get_data() -> tuple[pd.DataFrame, pd.DataFrame]:\n",
    "    y_train = AirPassengersPanel[\n",
    "        AirPassengersPanel.ds < AirPassengersPanel['ds'].values[-12]]\n",
    "    y_test = AirPassengersPanel[\n",
    "        AirPassengersPanel.ds >= AirPassengersPanel['ds'].values[-12]\n",
    "    ].reset_index(drop=True)\n",
    "    return y_train, y_test"
   ]
  },
  {
   "cell_type": "code",
   "execution_count": 3,
   "id": "1e6df263-b392-459c-b925-3e3725201ae0",
   "metadata": {},
   "outputs": [],
   "source": [
    "y_train, y_test = get_data()"
   ]
  },
  {
   "cell_type": "code",
   "execution_count": 4,
   "id": "30956337-54a8-48c3-beb2-68952c3df741",
   "metadata": {},
   "outputs": [
    {
     "data": {
      "text/html": [
       "<div>\n",
       "<style scoped>\n",
       "    .dataframe tbody tr th:only-of-type {\n",
       "        vertical-align: middle;\n",
       "    }\n",
       "\n",
       "    .dataframe tbody tr th {\n",
       "        vertical-align: top;\n",
       "    }\n",
       "\n",
       "    .dataframe thead th {\n",
       "        text-align: right;\n",
       "    }\n",
       "</style>\n",
       "<table border=\"1\" class=\"dataframe\">\n",
       "  <thead>\n",
       "    <tr style=\"text-align: right;\">\n",
       "      <th></th>\n",
       "      <th>unique_id</th>\n",
       "      <th>ds</th>\n",
       "      <th>y</th>\n",
       "      <th>trend</th>\n",
       "      <th>y_[lag12]</th>\n",
       "    </tr>\n",
       "  </thead>\n",
       "  <tbody>\n",
       "    <tr>\n",
       "      <th>0</th>\n",
       "      <td>Airline1</td>\n",
       "      <td>1949-01-31</td>\n",
       "      <td>112.0</td>\n",
       "      <td>0</td>\n",
       "      <td>112.0</td>\n",
       "    </tr>\n",
       "    <tr>\n",
       "      <th>1</th>\n",
       "      <td>Airline1</td>\n",
       "      <td>1949-02-28</td>\n",
       "      <td>118.0</td>\n",
       "      <td>1</td>\n",
       "      <td>118.0</td>\n",
       "    </tr>\n",
       "    <tr>\n",
       "      <th>2</th>\n",
       "      <td>Airline1</td>\n",
       "      <td>1949-03-31</td>\n",
       "      <td>132.0</td>\n",
       "      <td>2</td>\n",
       "      <td>132.0</td>\n",
       "    </tr>\n",
       "    <tr>\n",
       "      <th>3</th>\n",
       "      <td>Airline1</td>\n",
       "      <td>1949-04-30</td>\n",
       "      <td>129.0</td>\n",
       "      <td>3</td>\n",
       "      <td>129.0</td>\n",
       "    </tr>\n",
       "    <tr>\n",
       "      <th>4</th>\n",
       "      <td>Airline1</td>\n",
       "      <td>1949-05-31</td>\n",
       "      <td>121.0</td>\n",
       "      <td>4</td>\n",
       "      <td>121.0</td>\n",
       "    </tr>\n",
       "  </tbody>\n",
       "</table>\n",
       "</div>"
      ],
      "text/plain": [
       "  unique_id         ds      y  trend  y_[lag12]\n",
       "0  Airline1 1949-01-31  112.0      0      112.0\n",
       "1  Airline1 1949-02-28  118.0      1      118.0\n",
       "2  Airline1 1949-03-31  132.0      2      132.0\n",
       "3  Airline1 1949-04-30  129.0      3      129.0\n",
       "4  Airline1 1949-05-31  121.0      4      121.0"
      ]
     },
     "execution_count": 4,
     "metadata": {},
     "output_type": "execute_result"
    }
   ],
   "source": [
    "y_train.head()"
   ]
  },
  {
   "cell_type": "code",
   "execution_count": 5,
   "id": "64c45ea0-077c-46af-a392-05f81bfa9a05",
   "metadata": {},
   "outputs": [
    {
     "data": {
      "text/html": [
       "<div>\n",
       "<style scoped>\n",
       "    .dataframe tbody tr th:only-of-type {\n",
       "        vertical-align: middle;\n",
       "    }\n",
       "\n",
       "    .dataframe tbody tr th {\n",
       "        vertical-align: top;\n",
       "    }\n",
       "\n",
       "    .dataframe thead th {\n",
       "        text-align: right;\n",
       "    }\n",
       "</style>\n",
       "<table border=\"1\" class=\"dataframe\">\n",
       "  <thead>\n",
       "    <tr style=\"text-align: right;\">\n",
       "      <th></th>\n",
       "      <th>unique_id</th>\n",
       "      <th>ds</th>\n",
       "      <th>y</th>\n",
       "      <th>trend</th>\n",
       "      <th>y_[lag12]</th>\n",
       "    </tr>\n",
       "  </thead>\n",
       "  <tbody>\n",
       "    <tr>\n",
       "      <th>271</th>\n",
       "      <td>Airline2</td>\n",
       "      <td>1959-08-31</td>\n",
       "      <td>859.0</td>\n",
       "      <td>271</td>\n",
       "      <td>805.0</td>\n",
       "    </tr>\n",
       "    <tr>\n",
       "      <th>272</th>\n",
       "      <td>Airline2</td>\n",
       "      <td>1959-09-30</td>\n",
       "      <td>763.0</td>\n",
       "      <td>272</td>\n",
       "      <td>704.0</td>\n",
       "    </tr>\n",
       "    <tr>\n",
       "      <th>273</th>\n",
       "      <td>Airline2</td>\n",
       "      <td>1959-10-31</td>\n",
       "      <td>707.0</td>\n",
       "      <td>273</td>\n",
       "      <td>659.0</td>\n",
       "    </tr>\n",
       "    <tr>\n",
       "      <th>274</th>\n",
       "      <td>Airline2</td>\n",
       "      <td>1959-11-30</td>\n",
       "      <td>662.0</td>\n",
       "      <td>274</td>\n",
       "      <td>610.0</td>\n",
       "    </tr>\n",
       "    <tr>\n",
       "      <th>275</th>\n",
       "      <td>Airline2</td>\n",
       "      <td>1959-12-31</td>\n",
       "      <td>705.0</td>\n",
       "      <td>275</td>\n",
       "      <td>637.0</td>\n",
       "    </tr>\n",
       "  </tbody>\n",
       "</table>\n",
       "</div>"
      ],
      "text/plain": [
       "    unique_id         ds      y  trend  y_[lag12]\n",
       "271  Airline2 1959-08-31  859.0    271      805.0\n",
       "272  Airline2 1959-09-30  763.0    272      704.0\n",
       "273  Airline2 1959-10-31  707.0    273      659.0\n",
       "274  Airline2 1959-11-30  662.0    274      610.0\n",
       "275  Airline2 1959-12-31  705.0    275      637.0"
      ]
     },
     "execution_count": 5,
     "metadata": {},
     "output_type": "execute_result"
    }
   ],
   "source": [
    "y_train.tail()"
   ]
  },
  {
   "cell_type": "markdown",
   "id": "c2bf96d6-5870-4a05-a55f-402f2e14ef26",
   "metadata": {},
   "source": [
    "## 2. Creating NBEATSx model object"
   ]
  },
  {
   "cell_type": "markdown",
   "id": "6bbbdeff-1306-40da-a21f-13b6585d136f",
   "metadata": {},
   "source": [
    "Select arguments to NBEATSx that are passed explicitly:\n",
    "1. *h* - horizon of the forecast\n",
    "2. *input_size* - autorregresive inputs size, y=[1,2,3,4] input_size=2 -> y_[t-2:t]=[1,2]\n",
    "3. *stat_exog_list*: str list, static exogenous columns.\n",
    "4. *hist_exog_list*: str list, historic exogenous columns.\n",
    "5. *futr_exog_list*: str list, future exogenous columns.\n",
    "6. *exclude_insample_y*: bool=False, the model skips the autoregressive features y[t-input_size:t] if True.<br>\n",
    "\n",
    "Select default arguments used under the hood:\n",
    "1. *n_blocks*: list = [1, 1, 1] - Number of blocks for each stack\n",
    "2. *mlp_units*: list = 3 * [[512, 512]] -\n",
    "3. *n_harmonics*: int, Number of harmonic oscillations in the SeasonalityBasis [cos(i * t/n_harmonics), sin(i * t/n_harmonics)]. Note that it will only be used if 'seasonality' is in *stack_types*\n",
    "4. *stack_types*: List[str], List of stack types. Subset from ['seasonality', 'trend', 'identity']\n",
    "5.  *n_polynomials*: int, Number of polynomial terms for TrendBasis [1,t,...,t^n_poly]. Note that it will only be used if 'trend' is in *stack_types*\n",
    "\n",
    "\n",
    "In the case at hand the model consists of three stacks. Each stack is made up from one block."
   ]
  },
  {
   "cell_type": "code",
   "execution_count": 6,
   "id": "fc768a17-300a-4f42-97c2-e12deb943f30",
   "metadata": {},
   "outputs": [
    {
     "name": "stderr",
     "output_type": "stream",
     "text": [
      "Seed set to 1\n"
     ]
    }
   ],
   "source": [
    "model = NBEATSx(\n",
    "    h=12,\n",
    "    input_size=24,\n",
    "    loss=DistributionLoss(distribution='Normal', level=[80, 90]),\n",
    "    scaler_type='robust',\n",
    "    dropout_prob_theta=0.5,\n",
    "    stat_exog_list=['airline1'],\n",
    "    futr_exog_list=['trend'],\n",
    "    max_steps=200,\n",
    "    val_check_steps=10,\n",
    "    early_stop_patience_steps=2\n",
    ")\n",
    "nf = NeuralForecast(models=[model], freq='M')"
   ]
  },
  {
   "cell_type": "code",
   "execution_count": 7,
   "id": "d3f93359-adb4-4331-b1b2-d35de06f3429",
   "metadata": {},
   "outputs": [
    {
     "data": {
      "application/vnd.jupyter.widget-view+json": {
       "model_id": "",
       "version_major": 2,
       "version_minor": 0
      },
      "text/plain": [
       "Sanity Checking: |                                                                                            …"
      ]
     },
     "metadata": {},
     "output_type": "display_data"
    },
    {
     "data": {
      "application/vnd.jupyter.widget-view+json": {
       "model_id": "6477ab47be424afab017df75ad2854f8",
       "version_major": 2,
       "version_minor": 0
      },
      "text/plain": [
       "Training: |                                                                                                   …"
      ]
     },
     "metadata": {},
     "output_type": "display_data"
    },
    {
     "data": {
      "application/vnd.jupyter.widget-view+json": {
       "model_id": "",
       "version_major": 2,
       "version_minor": 0
      },
      "text/plain": [
       "Validation: |                                                                                                 …"
      ]
     },
     "metadata": {},
     "output_type": "display_data"
    },
    {
     "data": {
      "application/vnd.jupyter.widget-view+json": {
       "model_id": "",
       "version_major": 2,
       "version_minor": 0
      },
      "text/plain": [
       "Validation: |                                                                                                 …"
      ]
     },
     "metadata": {},
     "output_type": "display_data"
    },
    {
     "data": {
      "application/vnd.jupyter.widget-view+json": {
       "model_id": "",
       "version_major": 2,
       "version_minor": 0
      },
      "text/plain": [
       "Validation: |                                                                                                 …"
      ]
     },
     "metadata": {},
     "output_type": "display_data"
    },
    {
     "data": {
      "application/vnd.jupyter.widget-view+json": {
       "model_id": "",
       "version_major": 2,
       "version_minor": 0
      },
      "text/plain": [
       "Validation: |                                                                                                 …"
      ]
     },
     "metadata": {},
     "output_type": "display_data"
    },
    {
     "data": {
      "application/vnd.jupyter.widget-view+json": {
       "model_id": "",
       "version_major": 2,
       "version_minor": 0
      },
      "text/plain": [
       "Validation: |                                                                                                 …"
      ]
     },
     "metadata": {},
     "output_type": "display_data"
    },
    {
     "data": {
      "application/vnd.jupyter.widget-view+json": {
       "model_id": "854b0702a2df43b78b14868d09e3a7ce",
       "version_major": 2,
       "version_minor": 0
      },
      "text/plain": [
       "Predicting: |                                                                                                 …"
      ]
     },
     "metadata": {},
     "output_type": "display_data"
    }
   ],
   "source": [
    "nf.fit(df=y_train, static_df=AirPassengersStatic, val_size=12)\n",
    "y_hat = nf.predict(futr_df=y_test)"
   ]
  },
  {
   "cell_type": "markdown",
   "id": "2c65f1c7-4475-4b83-98ae-83495b8f3548",
   "metadata": {},
   "source": [
    "## 3. Calculating and plotting predictions"
   ]
  },
  {
   "cell_type": "code",
   "execution_count": 8,
   "id": "f72a1bba-fcbb-47a0-91c1-0ff1707341e8",
   "metadata": {},
   "outputs": [],
   "source": [
    "y_hat = y_hat.reset_index(drop=False).drop(columns=['unique_id', 'ds'])\n",
    "plot_df = pd.concat([y_test, y_hat], axis=1)\n",
    "plot_df = pd.concat([y_train, plot_df])\n",
    "plot_df = (plot_df[plot_df.unique_id == 'Airline1'].\n",
    "           drop('unique_id', axis=1))"
   ]
  },
  {
   "cell_type": "code",
   "execution_count": 9,
   "id": "4a768aad-3d7a-45d9-9c2f-0bfa76c7fe70",
   "metadata": {},
   "outputs": [
    {
     "data": {
      "text/html": [
       "<div>\n",
       "<style scoped>\n",
       "    .dataframe tbody tr th:only-of-type {\n",
       "        vertical-align: middle;\n",
       "    }\n",
       "\n",
       "    .dataframe tbody tr th {\n",
       "        vertical-align: top;\n",
       "    }\n",
       "\n",
       "    .dataframe thead th {\n",
       "        text-align: right;\n",
       "    }\n",
       "</style>\n",
       "<table border=\"1\" class=\"dataframe\">\n",
       "  <thead>\n",
       "    <tr style=\"text-align: right;\">\n",
       "      <th></th>\n",
       "      <th>ds</th>\n",
       "      <th>y</th>\n",
       "      <th>trend</th>\n",
       "      <th>y_[lag12]</th>\n",
       "      <th>NBEATSx</th>\n",
       "      <th>NBEATSx-median</th>\n",
       "      <th>NBEATSx-lo-90</th>\n",
       "      <th>NBEATSx-lo-80</th>\n",
       "      <th>NBEATSx-hi-80</th>\n",
       "      <th>NBEATSx-hi-90</th>\n",
       "    </tr>\n",
       "  </thead>\n",
       "  <tbody>\n",
       "    <tr>\n",
       "      <th>0</th>\n",
       "      <td>1960-01-31</td>\n",
       "      <td>417.0</td>\n",
       "      <td>132</td>\n",
       "      <td>360.0</td>\n",
       "      <td>415.180328</td>\n",
       "      <td>439.826233</td>\n",
       "      <td>417.560455</td>\n",
       "      <td>431.613068</td>\n",
       "      <td>420.484955</td>\n",
       "      <td>406.276978</td>\n",
       "    </tr>\n",
       "    <tr>\n",
       "      <th>1</th>\n",
       "      <td>1960-02-29</td>\n",
       "      <td>391.0</td>\n",
       "      <td>133</td>\n",
       "      <td>342.0</td>\n",
       "      <td>406.177124</td>\n",
       "      <td>408.797241</td>\n",
       "      <td>388.639252</td>\n",
       "      <td>414.537872</td>\n",
       "      <td>401.283691</td>\n",
       "      <td>362.640747</td>\n",
       "    </tr>\n",
       "    <tr>\n",
       "      <th>2</th>\n",
       "      <td>1960-03-31</td>\n",
       "      <td>419.0</td>\n",
       "      <td>134</td>\n",
       "      <td>406.0</td>\n",
       "      <td>457.825439</td>\n",
       "      <td>478.432556</td>\n",
       "      <td>443.210938</td>\n",
       "      <td>461.216187</td>\n",
       "      <td>451.842224</td>\n",
       "      <td>473.989044</td>\n",
       "    </tr>\n",
       "    <tr>\n",
       "      <th>3</th>\n",
       "      <td>1960-04-30</td>\n",
       "      <td>461.0</td>\n",
       "      <td>135</td>\n",
       "      <td>396.0</td>\n",
       "      <td>438.114716</td>\n",
       "      <td>437.983948</td>\n",
       "      <td>416.386169</td>\n",
       "      <td>432.132141</td>\n",
       "      <td>418.048431</td>\n",
       "      <td>420.262085</td>\n",
       "    </tr>\n",
       "    <tr>\n",
       "      <th>4</th>\n",
       "      <td>1960-05-31</td>\n",
       "      <td>472.0</td>\n",
       "      <td>136</td>\n",
       "      <td>420.0</td>\n",
       "      <td>464.254883</td>\n",
       "      <td>446.353760</td>\n",
       "      <td>469.824646</td>\n",
       "      <td>465.583801</td>\n",
       "      <td>469.381226</td>\n",
       "      <td>466.009796</td>\n",
       "    </tr>\n",
       "    <tr>\n",
       "      <th>5</th>\n",
       "      <td>1960-06-30</td>\n",
       "      <td>535.0</td>\n",
       "      <td>137</td>\n",
       "      <td>472.0</td>\n",
       "      <td>539.905334</td>\n",
       "      <td>522.090149</td>\n",
       "      <td>547.111450</td>\n",
       "      <td>552.045410</td>\n",
       "      <td>501.141266</td>\n",
       "      <td>546.802307</td>\n",
       "    </tr>\n",
       "    <tr>\n",
       "      <th>6</th>\n",
       "      <td>1960-07-31</td>\n",
       "      <td>622.0</td>\n",
       "      <td>138</td>\n",
       "      <td>548.0</td>\n",
       "      <td>613.420044</td>\n",
       "      <td>657.793518</td>\n",
       "      <td>641.052673</td>\n",
       "      <td>601.260010</td>\n",
       "      <td>516.375732</td>\n",
       "      <td>639.511658</td>\n",
       "    </tr>\n",
       "    <tr>\n",
       "      <th>7</th>\n",
       "      <td>1960-08-31</td>\n",
       "      <td>606.0</td>\n",
       "      <td>139</td>\n",
       "      <td>559.0</td>\n",
       "      <td>612.567261</td>\n",
       "      <td>645.543335</td>\n",
       "      <td>574.365417</td>\n",
       "      <td>612.094849</td>\n",
       "      <td>586.091553</td>\n",
       "      <td>641.438721</td>\n",
       "    </tr>\n",
       "    <tr>\n",
       "      <th>8</th>\n",
       "      <td>1960-09-30</td>\n",
       "      <td>508.0</td>\n",
       "      <td>140</td>\n",
       "      <td>463.0</td>\n",
       "      <td>534.710266</td>\n",
       "      <td>530.256592</td>\n",
       "      <td>522.534485</td>\n",
       "      <td>450.941559</td>\n",
       "      <td>583.822876</td>\n",
       "      <td>538.184326</td>\n",
       "    </tr>\n",
       "    <tr>\n",
       "      <th>9</th>\n",
       "      <td>1960-10-31</td>\n",
       "      <td>461.0</td>\n",
       "      <td>141</td>\n",
       "      <td>407.0</td>\n",
       "      <td>441.482605</td>\n",
       "      <td>413.930206</td>\n",
       "      <td>469.892273</td>\n",
       "      <td>477.320740</td>\n",
       "      <td>435.156616</td>\n",
       "      <td>426.532410</td>\n",
       "    </tr>\n",
       "    <tr>\n",
       "      <th>10</th>\n",
       "      <td>1960-11-30</td>\n",
       "      <td>390.0</td>\n",
       "      <td>142</td>\n",
       "      <td>362.0</td>\n",
       "      <td>406.501404</td>\n",
       "      <td>423.330688</td>\n",
       "      <td>423.548981</td>\n",
       "      <td>411.018524</td>\n",
       "      <td>395.950836</td>\n",
       "      <td>414.351044</td>\n",
       "    </tr>\n",
       "    <tr>\n",
       "      <th>11</th>\n",
       "      <td>1960-12-31</td>\n",
       "      <td>432.0</td>\n",
       "      <td>143</td>\n",
       "      <td>405.0</td>\n",
       "      <td>438.467407</td>\n",
       "      <td>374.282104</td>\n",
       "      <td>435.455322</td>\n",
       "      <td>468.751373</td>\n",
       "      <td>412.343628</td>\n",
       "      <td>448.719025</td>\n",
       "    </tr>\n",
       "  </tbody>\n",
       "</table>\n",
       "</div>"
      ],
      "text/plain": [
       "           ds      y  trend  y_[lag12]     NBEATSx  NBEATSx-median  \\\n",
       "0  1960-01-31  417.0    132      360.0  415.180328      439.826233   \n",
       "1  1960-02-29  391.0    133      342.0  406.177124      408.797241   \n",
       "2  1960-03-31  419.0    134      406.0  457.825439      478.432556   \n",
       "3  1960-04-30  461.0    135      396.0  438.114716      437.983948   \n",
       "4  1960-05-31  472.0    136      420.0  464.254883      446.353760   \n",
       "5  1960-06-30  535.0    137      472.0  539.905334      522.090149   \n",
       "6  1960-07-31  622.0    138      548.0  613.420044      657.793518   \n",
       "7  1960-08-31  606.0    139      559.0  612.567261      645.543335   \n",
       "8  1960-09-30  508.0    140      463.0  534.710266      530.256592   \n",
       "9  1960-10-31  461.0    141      407.0  441.482605      413.930206   \n",
       "10 1960-11-30  390.0    142      362.0  406.501404      423.330688   \n",
       "11 1960-12-31  432.0    143      405.0  438.467407      374.282104   \n",
       "\n",
       "    NBEATSx-lo-90  NBEATSx-lo-80  NBEATSx-hi-80  NBEATSx-hi-90  \n",
       "0      417.560455     431.613068     420.484955     406.276978  \n",
       "1      388.639252     414.537872     401.283691     362.640747  \n",
       "2      443.210938     461.216187     451.842224     473.989044  \n",
       "3      416.386169     432.132141     418.048431     420.262085  \n",
       "4      469.824646     465.583801     469.381226     466.009796  \n",
       "5      547.111450     552.045410     501.141266     546.802307  \n",
       "6      641.052673     601.260010     516.375732     639.511658  \n",
       "7      574.365417     612.094849     586.091553     641.438721  \n",
       "8      522.534485     450.941559     583.822876     538.184326  \n",
       "9      469.892273     477.320740     435.156616     426.532410  \n",
       "10     423.548981     411.018524     395.950836     414.351044  \n",
       "11     435.455322     468.751373     412.343628     448.719025  "
      ]
     },
     "execution_count": 9,
     "metadata": {},
     "output_type": "execute_result"
    }
   ],
   "source": [
    "# predictions\n",
    "plot_df.loc[~plot_df.NBEATSx.isna(), :]"
   ]
  },
  {
   "cell_type": "code",
   "execution_count": 10,
   "id": "7b59ca9a-ddca-4ffa-9fb8-20490d6309f2",
   "metadata": {},
   "outputs": [
    {
     "data": {
      "text/plain": [
       "[]"
      ]
     },
     "execution_count": 10,
     "metadata": {},
     "output_type": "execute_result"
    },
    {
     "data": {
      "image/png": "[encoded data removed]",
      "text/plain": [
       "<Figure size 1200x600 with 1 Axes>"
      ]
     },
     "metadata": {},
     "output_type": "display_data"
    }
   ],
   "source": [
    "plt.figure(figsize=(12, 6))\n",
    "plt.plot(plot_df['ds'], plot_df['y'], c='black', label='True')\n",
    "plt.plot(plot_df['ds'], plot_df['NBEATSx'], c='purple', label='mean')\n",
    "plt.plot(\n",
    "    plot_df['ds'], plot_df['NBEATSx-median'], c='blue', label='median')\n",
    "plt.fill_between(\n",
    "    x=plot_df['ds'][-12:],\n",
    "    y1=plot_df['NBEATSx-lo-90'][-12:].values,\n",
    "    y2=plot_df['NBEATSx-hi-90'][-12:].values,\n",
    "    alpha=0.4, label='level 90'\n",
    ")\n",
    "plt.legend()\n",
    "plt.grid()\n",
    "plt.plot()"
   ]
  },
  {
   "cell_type": "code",
   "execution_count": null,
   "id": "ba5c95f6-9220-4944-b72a-6455e896d3c3",
   "metadata": {},
   "outputs": [],
   "source": []
  }
 ],
 "metadata": {
  "kernelspec": {
   "display_name": "ailab",
   "language": "python",
   "name": "ailab"
  },
  "language_info": {
   "codemirror_mode": {
    "name": "ipython",
    "version": 3
   },
   "file_extension": ".py",
   "mimetype": "text/x-python",
   "name": "python",
   "nbconvert_exporter": "python",
   "pygments_lexer": "ipython3",
   "version": "3.10.13"
  }
 },
 "nbformat": 4,
 "nbformat_minor": 5
}
